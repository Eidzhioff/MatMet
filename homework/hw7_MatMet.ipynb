{
  "nbformat": 4,
  "nbformat_minor": 0,
  "metadata": {
    "colab": {
      "provenance": []
    },
    "kernelspec": {
      "name": "python3",
      "display_name": "Python 3"
    },
    "language_info": {
      "name": "python"
    }
  },
  "cells": [
    {
      "cell_type": "code",
      "execution_count": 4,
      "metadata": {
        "id": "lz0BvYWO0iHo"
      },
      "outputs": [],
      "source": [
        "import pandas as pd\n",
        "from sklearn.model_selection import KFold\n",
        "from sklearn.model_selection import cross_val_score\n",
        "from sklearn.linear_model import LogisticRegression\n",
        "from sklearn.discriminant_analysis import LinearDiscriminantAnalysis\n",
        "from sklearn.svm import SVC"
      ]
    },
    {
      "cell_type": "code",
      "source": [
        "names = ['sepal length', 'sepal width', 'petal lengt', 'petal width', 'class']\n",
        "data = pd.read_csv(\"iris.data\", names=names)"
      ],
      "metadata": {
        "id": "OeUDHuFe03Mw"
      },
      "execution_count": 5,
      "outputs": []
    },
    {
      "cell_type": "code",
      "source": [
        "data_without_class=data.drop(columns = ['class'],axis = 1)\n",
        "array = data.values"
      ],
      "metadata": {
        "id": "s1X-AXuW1Djx"
      },
      "execution_count": 14,
      "outputs": []
    },
    {
      "cell_type": "code",
      "source": [
        "X = array[:,0:4]\n",
        "Y = array[:,4]"
      ],
      "metadata": {
        "id": "Xe4KiQci1JAK"
      },
      "execution_count": 17,
      "outputs": []
    },
    {
      "cell_type": "markdown",
      "source": [
        "# **Logistic Regression**"
      ],
      "metadata": {
        "id": "qGt4XwrJ1PT3"
      }
    },
    {
      "cell_type": "code",
      "source": [
        "kfold = KFold(n_splits=10, random_state=7, shuffle=True)\n",
        "model = LogisticRegression(solver='liblinear')\n",
        "results = cross_val_score(model, X, Y, cv=kfold)\n",
        "print(f\"{round(results.mean()*100, 2)} %\")"
      ],
      "metadata": {
        "colab": {
          "base_uri": "https://localhost:8080/"
        },
        "id": "8fJvm0_81QGU",
        "outputId": "517a938b-66b0-4bca-f416-b5f8b571d734"
      },
      "execution_count": 23,
      "outputs": [
        {
          "output_type": "stream",
          "name": "stdout",
          "text": [
            "95.33 %\n"
          ]
        }
      ]
    },
    {
      "cell_type": "markdown",
      "source": [
        "Значение точности вычислений составляет 95%, модель логистической регрессии хорошо подходит для классификации."
      ],
      "metadata": {
        "id": "xoDOayDD1niw"
      }
    },
    {
      "cell_type": "markdown",
      "source": [
        "# **Support Vector Machines**"
      ],
      "metadata": {
        "id": "aCZz14Q01jDp"
      }
    },
    {
      "cell_type": "code",
      "source": [
        "kfold = KFold(n_splits=10, random_state=7, shuffle=True)\n",
        "model = SVC()\n",
        "results = cross_val_score(model, X, Y, cv=kfold)\n",
        "print(f\"{round(results.mean()*100, 2)} %\")"
      ],
      "metadata": {
        "colab": {
          "base_uri": "https://localhost:8080/"
        },
        "id": "MU7uMibR1kPs",
        "outputId": "8ac1755c-0567-4231-863e-8f760fb1bf4e"
      },
      "execution_count": 21,
      "outputs": [
        {
          "output_type": "stream",
          "name": "stdout",
          "text": [
            "96.0 %\n"
          ]
        }
      ]
    },
    {
      "cell_type": "markdown",
      "source": [
        "Линейный метод опорных векторов показал точность классификации 96%, лучше логистической регрессии, но хуже линейного дискриминантного анализа"
      ],
      "metadata": {
        "id": "nymamP_d1qax"
      }
    },
    {
      "cell_type": "markdown",
      "source": [
        "# **Linear Discriminant Analysis**"
      ],
      "metadata": {
        "id": "_2rp701t1fb5"
      }
    },
    {
      "cell_type": "code",
      "source": [
        "kfold = KFold(n_splits=10, random_state=7, shuffle=True)\n",
        "model = LinearDiscriminantAnalysis()\n",
        "results = cross_val_score(model, X, Y, cv=kfold)\n",
        "print(f\"{round(results.mean()*100, 2)} %\")"
      ],
      "metadata": {
        "colab": {
          "base_uri": "https://localhost:8080/"
        },
        "id": "zWKUukXY1ewx",
        "outputId": "972f8ebc-67cf-4007-cb0c-2e94511b8f72"
      },
      "execution_count": 22,
      "outputs": [
        {
          "output_type": "stream",
          "name": "stdout",
          "text": [
            "98.0 %\n"
          ]
        }
      ]
    },
    {
      "cell_type": "markdown",
      "source": [
        "Линейный дискриминантный анализ показал точность классификации 98%, показатель лучше, чем логистическая регрессия"
      ],
      "metadata": {
        "id": "biY_Wxwe1pFc"
      }
    },
    {
      "cell_type": "markdown",
      "source": [
        "Таким образом, лучше всего подходит модель линейного дискриминантного анализа"
      ],
      "metadata": {
        "id": "_sU_HfC-1sSt"
      }
    }
  ]
}