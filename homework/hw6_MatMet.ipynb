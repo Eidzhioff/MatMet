{
  "nbformat": 4,
  "nbformat_minor": 0,
  "metadata": {
    "colab": {
      "provenance": []
    },
    "kernelspec": {
      "name": "python3",
      "display_name": "Python 3"
    },
    "language_info": {
      "name": "python"
    }
  },
  "cells": [
    {
      "cell_type": "code",
      "execution_count": 45,
      "metadata": {
        "id": "TBEb7o5RnALt"
      },
      "outputs": [],
      "source": [
        "import pandas as pd\n",
        "from sklearn.model_selection import train_test_split, KFold, cross_val_score, LeaveOneOut, ShuffleSplit\n",
        "from sklearn.linear_model import LogisticRegression\n",
        "from sklearn.metrics import confusion_matrix, classification_report\n",
        "from sklearn.model_selection import KFold\n",
        "from sklearn.model_selection import cross_val_score\n",
        "from sklearn.linear_model import LinearRegression"
      ]
    },
    {
      "cell_type": "markdown",
      "source": [
        "# **Данные**"
      ],
      "metadata": {
        "id": "On1mMZAIn1Zm"
      }
    },
    {
      "cell_type": "code",
      "source": [
        "names = ['preg', 'plas', 'pres', 'skin', 'test', 'mass', 'pedi', 'age', 'class']\n",
        "data = pd.read_csv(\"pima-indians-diabetes.data.csv\", names=names)\n",
        "array = data.values\n",
        "X = array[:,0:8]\n",
        "Y = array[:,8]"
      ],
      "metadata": {
        "id": "ITvqEiXAnM4G"
      },
      "execution_count": 68,
      "outputs": []
    },
    {
      "cell_type": "markdown",
      "source": [
        "На своих данных модели выдавали ошибку, поэтому взял данные указанные в задании"
      ],
      "metadata": {
        "id": "mCaZ6q_HAs_W"
      }
    },
    {
      "cell_type": "markdown",
      "source": [
        "# **Обучающая, валидационная, тестовая выборка**"
      ],
      "metadata": {
        "id": "TB8YZ6xKn4K9"
      }
    },
    {
      "cell_type": "markdown",
      "source": [
        "**Train and Test Sets**"
      ],
      "metadata": {
        "id": "qKEV57IypYMg"
      }
    },
    {
      "cell_type": "code",
      "source": [
        "X_train, X_test, Y_train, Y_test = train_test_split(X, Y, test_size=0.33, random_state=7)\n",
        "model = LogisticRegression(solver='liblinear')\n",
        "model.fit(X_train, Y_train)\n",
        "result = model.score(X_test, Y_test)\n",
        "print(f\"Accuracy: {round(result*100)} %\")"
      ],
      "metadata": {
        "colab": {
          "base_uri": "https://localhost:8080/"
        },
        "id": "e2A1kD3yoqjf",
        "outputId": "d48c0632-2576-4a5e-f2d9-656884959a85"
      },
      "execution_count": 54,
      "outputs": [
        {
          "output_type": "stream",
          "name": "stdout",
          "text": [
            "Accuracy: 76 %\n"
          ]
        }
      ]
    },
    {
      "cell_type": "markdown",
      "source": [
        "Точность результатов модели - 76%, значит, модель более менее точно предсказывает результат"
      ],
      "metadata": {
        "id": "GJ7DSXMepJTu"
      }
    },
    {
      "cell_type": "markdown",
      "source": [
        "**k-fold Cross-Validation**"
      ],
      "metadata": {
        "id": "1FzUlpa9pa57"
      }
    },
    {
      "cell_type": "code",
      "source": [
        "kfold = KFold(n_splits=10, random_state=7, shuffle=True)\n",
        "results = cross_val_score(model, X, Y, cv=kfold)\n",
        "print(f\"Mean accuracy: {round(results.mean()*100.0)} %\")\n",
        "print(f\"Deviation accuracy: {round( results.std()*100.0)} %\")"
      ],
      "metadata": {
        "colab": {
          "base_uri": "https://localhost:8080/"
        },
        "id": "bviu-kLCo4Iz",
        "outputId": "bb7cf85a-0cc7-4eb2-aae8-56652ce88a9f"
      },
      "execution_count": 55,
      "outputs": [
        {
          "output_type": "stream",
          "name": "stdout",
          "text": [
            "Mean accuracy: 77 %\n",
            "Deviation accuracy: 5 %\n"
          ]
        }
      ]
    },
    {
      "cell_type": "markdown",
      "source": [
        "Среднее значение точности - 77%, величина отклонения - 5%"
      ],
      "metadata": {
        "id": "xYUHCHIspmQL"
      }
    },
    {
      "cell_type": "markdown",
      "source": [
        "**Leave One Out Cross-Validation**"
      ],
      "metadata": {
        "id": "5VZWl35Eq9ld"
      }
    },
    {
      "cell_type": "code",
      "source": [
        "loocv = LeaveOneOut()\n",
        "model = LogisticRegression(solver='liblinear')\n",
        "results = cross_val_score(model, X, Y, cv=loocv)\n",
        "print(f\"Mean accuracy: {round(results.mean()*100.0)} %\")\n",
        "print(f\"Deviation accuracy: {round( results.std()*100.0)} %\")"
      ],
      "metadata": {
        "id": "R3lNEUVppl7k",
        "colab": {
          "base_uri": "https://localhost:8080/"
        },
        "outputId": "8f6a719a-aaf6-47c0-ba75-f05bf48f1b7c"
      },
      "execution_count": 67,
      "outputs": [
        {
          "output_type": "stream",
          "name": "stdout",
          "text": [
            "Mean accuracy: 77 %\n",
            "Deviation accuracy: 42 %\n"
          ]
        }
      ]
    },
    {
      "cell_type": "markdown",
      "source": [
        "Среднее значение точности - 77%, величина отклонения - 42%\n"
      ],
      "metadata": {
        "id": "1eSCB-wfrNjm"
      }
    },
    {
      "cell_type": "markdown",
      "source": [
        "**Repeated Random Test-Train Splits**"
      ],
      "metadata": {
        "id": "cH_duSFTrPi0"
      }
    },
    {
      "cell_type": "code",
      "source": [
        "kfold = ShuffleSplit(n_splits=10, test_size=0.33, random_state=7)\n",
        "results = cross_val_score(model, X, Y, cv=kfold)\n",
        "print(f\"Mean accuracy: {round(results.mean()*100.0)} %\")\n",
        "print(f\"Deviation accuracy: {round( results.std()*100.0)} %\")"
      ],
      "metadata": {
        "colab": {
          "base_uri": "https://localhost:8080/"
        },
        "id": "gInkYwdWrVvj",
        "outputId": "e00af06a-7289-4d13-eff4-ec3fb7af3cec"
      },
      "execution_count": 57,
      "outputs": [
        {
          "output_type": "stream",
          "name": "stdout",
          "text": [
            "Mean accuracy: 77 %\n",
            "Deviation accuracy: 2 %\n"
          ]
        }
      ]
    },
    {
      "cell_type": "markdown",
      "source": [
        "Среднее значение точности - 77%, величина отклонения - 2%"
      ],
      "metadata": {
        "id": "wNbiHebrrVOC"
      }
    },
    {
      "cell_type": "markdown",
      "source": [
        "# **Метрики качества моделей**"
      ],
      "metadata": {
        "id": "MhejS9pnr4_V"
      }
    },
    {
      "cell_type": "markdown",
      "source": [
        "**Classification Accuracy**"
      ],
      "metadata": {
        "id": "5RXzanDAr8Ir"
      }
    },
    {
      "cell_type": "code",
      "source": [
        "kfold = KFold(n_splits=10, random_state=7, shuffle=True)\n",
        "model = LogisticRegression(solver='liblinear')\n",
        "scoring = 'accuracy'\n",
        "results = cross_val_score(model, X, Y, cv=kfold, scoring=scoring)\n",
        "print(f\"Mean accuracy: {round(results.mean()*100.0)} %\")\n",
        "print(f\"Deviation accuracy: {round( results.std()*100.0)} %\")"
      ],
      "metadata": {
        "colab": {
          "base_uri": "https://localhost:8080/"
        },
        "id": "TIUnSLr1r-CL",
        "outputId": "03df6f0e-5e6f-4156-c0e3-7d5c7cae89c1"
      },
      "execution_count": 58,
      "outputs": [
        {
          "output_type": "stream",
          "name": "stdout",
          "text": [
            "Mean accuracy: 77 %\n",
            "Deviation accuracy: 5 %\n"
          ]
        }
      ]
    },
    {
      "cell_type": "markdown",
      "source": [
        "Среднее значение точности - 77%, величина отклонения - 5%"
      ],
      "metadata": {
        "id": "JKhCdwJY7IV-"
      }
    },
    {
      "cell_type": "markdown",
      "source": [
        "**Logistic Loss**"
      ],
      "metadata": {
        "id": "N_55KBTmsE46"
      }
    },
    {
      "cell_type": "code",
      "source": [
        "kfold = KFold(n_splits=10, random_state=7, shuffle=True)\n",
        "model = LogisticRegression(solver='liblinear')\n",
        "scoring = 'neg_log_loss'\n",
        "results = cross_val_score(model, X, Y, cv=kfold, scoring=scoring)\n",
        "print(f\"Mean Logloss: {(results.mean())} %\")\n",
        "print(f\"Deviation Logloss: {( results.std())} %\")"
      ],
      "metadata": {
        "colab": {
          "base_uri": "https://localhost:8080/"
        },
        "id": "qaaD4ukWsDmw",
        "outputId": "b84505d7-3f20-46a1-f8f9-4914a04ffdf3"
      },
      "execution_count": 59,
      "outputs": [
        {
          "output_type": "stream",
          "name": "stdout",
          "text": [
            "Mean Logloss: -0.49356237960494703 %\n",
            "Deviation Logloss: 0.04206771628974085 %\n"
          ]
        }
      ]
    },
    {
      "cell_type": "markdown",
      "source": [
        "Среднее значение Logloss - -49%, величина отклонения - 5%"
      ],
      "metadata": {
        "id": "XeUZao1h7R5M"
      }
    },
    {
      "cell_type": "markdown",
      "source": [
        "**Area Under ROC Curve**"
      ],
      "metadata": {
        "id": "RdzD7fv0sFf5"
      }
    },
    {
      "cell_type": "code",
      "source": [
        "kfold = KFold(n_splits=10, random_state=7, shuffle=True)\n",
        "model = LogisticRegression(solver='liblinear')\n",
        "scoring = 'roc_auc'\n",
        "results = cross_val_score(model, X, Y, cv=kfold, scoring=scoring)\n",
        "print(f\"Mean AUC: {(results.mean())} %\")\n",
        "print(f\"Deviation AUC: {( results.std())} %\")"
      ],
      "metadata": {
        "id": "6ALRzKhgsDwr",
        "colab": {
          "base_uri": "https://localhost:8080/"
        },
        "outputId": "f5a64d9b-40f2-42cf-8374-b05d18168eb8"
      },
      "execution_count": 60,
      "outputs": [
        {
          "output_type": "stream",
          "name": "stdout",
          "text": [
            "Mean AUC: 0.8257627921677674 %\n",
            "Deviation AUC: 0.05005520303752424 %\n"
          ]
        }
      ]
    },
    {
      "cell_type": "markdown",
      "source": [
        "Среднее значение AUC - 82%, величина отклонения - 5%"
      ],
      "metadata": {
        "id": "hajNoT9N7gVN"
      }
    },
    {
      "cell_type": "markdown",
      "source": [
        "**Confusion Matrix**"
      ],
      "metadata": {
        "id": "ZLr3B_wnsFwC"
      }
    },
    {
      "cell_type": "code",
      "source": [
        "X_train, X_test, Y_train, Y_test = train_test_split(X, Y, test_size=0.33,random_state=7)\n",
        "model = LogisticRegression(solver='liblinear')\n",
        "model.fit(X_train, Y_train)\n",
        "predicted = model.predict(X_test)\n",
        "matrix = confusion_matrix(Y_test, predicted)\n",
        "matrix"
      ],
      "metadata": {
        "colab": {
          "base_uri": "https://localhost:8080/"
        },
        "id": "tujLDTOI5naP",
        "outputId": "eea2e7f8-4ff7-4669-98e8-95c63950d9a3"
      },
      "execution_count": 61,
      "outputs": [
        {
          "output_type": "execute_result",
          "data": {
            "text/plain": [
              "array([[141,  21],\n",
              "       [ 41,  51]])"
            ]
          },
          "metadata": {},
          "execution_count": 61
        }
      ]
    },
    {
      "cell_type": "markdown",
      "source": [
        "**Classification Report**"
      ],
      "metadata": {
        "id": "xi4Q7vuzsGCZ"
      }
    },
    {
      "cell_type": "code",
      "source": [
        "X_train, X_test, Y_train, Y_test = train_test_split(X, Y, test_size=0.33,random_state=7)\n",
        "model = LogisticRegression(solver='liblinear')\n",
        "model.fit(X_train, Y_train)\n",
        "predicted = model.predict(X_test)\n",
        "report = classification_report(Y_test, predicted)\n",
        "print(report)"
      ],
      "metadata": {
        "id": "DrWH7rLTsEDa",
        "colab": {
          "base_uri": "https://localhost:8080/"
        },
        "outputId": "871827f7-3f98-4c1a-a1f6-aa2ca3b79f83"
      },
      "execution_count": 62,
      "outputs": [
        {
          "output_type": "stream",
          "name": "stdout",
          "text": [
            "              precision    recall  f1-score   support\n",
            "\n",
            "         0.0       0.77      0.87      0.82       162\n",
            "         1.0       0.71      0.55      0.62        92\n",
            "\n",
            "    accuracy                           0.76       254\n",
            "   macro avg       0.74      0.71      0.72       254\n",
            "weighted avg       0.75      0.76      0.75       254\n",
            "\n"
          ]
        }
      ]
    },
    {
      "cell_type": "markdown",
      "source": [
        "**Mean Absolute Error**"
      ],
      "metadata": {
        "id": "Y0s2jLIgsGZW"
      }
    },
    {
      "cell_type": "code",
      "source": [
        "kfold = KFold(n_splits=10, random_state=7, shuffle=True)\n",
        "model = LinearRegression()\n",
        "scoring = 'neg_mean_absolute_error'\n",
        "results = cross_val_score(model, X, Y, cv=kfold, scoring=scoring)\n",
        "print(f\"Mean MAE: {(results.mean())} %\")\n",
        "print(f\"Deviation MAE: {( results.std())} %\")"
      ],
      "metadata": {
        "colab": {
          "base_uri": "https://localhost:8080/"
        },
        "id": "oZzDRc7T6EEA",
        "outputId": "e3ee4529-c7b2-4def-b6fb-47e6819774bf"
      },
      "execution_count": 63,
      "outputs": [
        {
          "output_type": "stream",
          "name": "stdout",
          "text": [
            "Mean MAE: -0.3368404421024537 %\n",
            "Deviation MAE: 0.019780732404569353 %\n"
          ]
        }
      ]
    },
    {
      "cell_type": "markdown",
      "source": [
        "В данном случае средняя абсолютная ошибка -33%, а величина отклонения 2%"
      ],
      "metadata": {
        "id": "nsB2ZKm57nz5"
      }
    },
    {
      "cell_type": "markdown",
      "source": [
        "**Mean Squared Error**"
      ],
      "metadata": {
        "id": "aoeR6EcV6U8e"
      }
    },
    {
      "cell_type": "code",
      "source": [
        "kfold = KFold(n_splits=10, random_state=7, shuffle=True)\n",
        "model = LinearRegression()\n",
        "scoring = 'neg_mean_squared_error'\n",
        "results = cross_val_score(model, X, Y, cv=kfold, scoring=scoring)\n",
        "print(f\"Mean AUC: {(results.mean())} %\")\n",
        "print(f\"Deviation AUC: {( results.std())} %\")"
      ],
      "metadata": {
        "id": "0ebon5tGsEOg",
        "colab": {
          "base_uri": "https://localhost:8080/"
        },
        "outputId": "73efd015-18e8-4c61-fd46-d4d956650a00"
      },
      "execution_count": 64,
      "outputs": [
        {
          "output_type": "stream",
          "name": "stdout",
          "text": [
            "Mean AUC: -0.16320738575907065 %\n",
            "Deviation AUC: 0.020251428034588136 %\n"
          ]
        }
      ]
    },
    {
      "cell_type": "markdown",
      "source": [
        "В данном случае величина средней квадратической ошибки -16%, а величина отклонения 2%"
      ],
      "metadata": {
        "id": "SdpmYDdv76ZY"
      }
    },
    {
      "cell_type": "markdown",
      "source": [
        "**R2**"
      ],
      "metadata": {
        "id": "07kuD3RW6Vz2"
      }
    },
    {
      "cell_type": "code",
      "source": [
        "kfold = KFold(n_splits=10, random_state=7, shuffle=True)\n",
        "model = LinearRegression()\n",
        "scoring = 'r2'\n",
        "results = cross_val_score(model, X, Y, cv=kfold, scoring=scoring)\n",
        "print(f\"Mean R2: {(results.mean())} %\")\n",
        "print(f\"Deviation R2: {( results.std())} %\")"
      ],
      "metadata": {
        "colab": {
          "base_uri": "https://localhost:8080/"
        },
        "id": "aleBXY_L6BJ-",
        "outputId": "689d7912-e6c8-44cf-d740-b685ee8b1673"
      },
      "execution_count": 65,
      "outputs": [
        {
          "output_type": "stream",
          "name": "stdout",
          "text": [
            "Mean R2: 0.26432881386388385 %\n",
            "Deviation R2: 0.10236184260132887 %\n"
          ]
        }
      ]
    },
    {
      "cell_type": "markdown",
      "source": [
        "Прогнозы не соответствуют фактическим значениям"
      ],
      "metadata": {
        "id": "4b9S36hZ8Myj"
      }
    }
  ]
}