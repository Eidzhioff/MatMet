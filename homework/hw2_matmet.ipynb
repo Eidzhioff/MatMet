{
  "cells": [
    {
      "cell_type": "code",
      "execution_count": null,
      "metadata": {
        "id": "83z6VLhvCnwR"
      },
      "outputs": [],
      "source": [
        "import os\n",
        "import pandas as pd\n",
        "import numpy as np\n",
        "import matplotlib.pyplot as plt\n",
        "from numpy import set_printoptions\n",
        "from sklearn.preprocessing import MinMaxScaler, StandardScaler, Normalizer, Binarizer\n",
        "from sklearn.feature_selection import SelectKBest, f_classif, RFE\n",
        "from sklearn.linear_model import LogisticRegression\n",
        "from sklearn.decomposition import PCA\n",
        "from sklearn.ensemble import ExtraTreesClassifier\n",
        "from pandas import read_excel"
      ]
    },
    {
      "cell_type": "code",
      "execution_count": null,
      "metadata": {
        "id": "oODpB-TxIs7C"
      },
      "outputs": [],
      "source": [
        "names1 = ['Call  Failure','Complains,Subscription  Length','Charge  Amount','Seconds of Use','Frequency of use','Frequency of SMS','Distinct Called Numbers','Age Group','Tariff Plan','Status','Age','Customer Value','Churn']\n",
        "data = pd.read_csv(\"Customer Churn.csv\")"
      ]
    },
    {
      "cell_type": "code",
      "execution_count": null,
      "metadata": {
        "colab": {
          "base_uri": "https://localhost:8080/",
          "height": 363
        },
        "id": "2oCna8hoMcC9",
        "outputId": "8d683cef-5449-4720-be8c-5422a32edf2b"
      },
      "outputs": [
        {
          "output_type": "execute_result",
          "data": {
            "text/plain": [
              "   Call  Failure  Complains  Subscription  Length  Charge  Amount  \\\n",
              "0              8          0                    38               0   \n",
              "1              0          0                    39               0   \n",
              "2             10          0                    37               0   \n",
              "3             10          0                    38               0   \n",
              "4              3          0                    38               0   \n",
              "5             11          0                    38               1   \n",
              "6              4          0                    38               0   \n",
              "7             13          0                    37               2   \n",
              "8              7          0                    38               0   \n",
              "9              7          0                    38               1   \n",
              "\n",
              "   Seconds of Use  Frequency of use  Frequency of SMS  \\\n",
              "0            4370                71                 5   \n",
              "1             318                 5                 7   \n",
              "2            2453                60               359   \n",
              "3            4198                66                 1   \n",
              "4            2393                58                 2   \n",
              "5            3775                82                32   \n",
              "6            2360                39               285   \n",
              "7            9115               121               144   \n",
              "8           13773               169                 0   \n",
              "9            4515                83                 2   \n",
              "\n",
              "   Distinct Called Numbers  Age Group  Tariff Plan  Status  Age  \\\n",
              "0                       17          3            1       1   30   \n",
              "1                        4          2            1       2   25   \n",
              "2                       24          3            1       1   30   \n",
              "3                       35          1            1       1   15   \n",
              "4                       33          1            1       1   15   \n",
              "5                       28          3            1       1   30   \n",
              "6                       18          3            1       1   30   \n",
              "7                       43          3            1       1   30   \n",
              "8                       44          3            1       1   30   \n",
              "9                       25          3            1       1   30   \n",
              "\n",
              "   Customer Value  Churn  \n",
              "0         197.640      0  \n",
              "1          46.035      0  \n",
              "2        1536.520      0  \n",
              "3         240.020      0  \n",
              "4         145.805      0  \n",
              "5         282.280      0  \n",
              "6        1235.960      0  \n",
              "7         945.440      0  \n",
              "8         557.680      0  \n",
              "9         191.920      0  "
            ],
            "text/html": [
              "\n",
              "  <div id=\"df-d9c2c967-5a6b-4781-9315-8c18e27cc99c\" class=\"colab-df-container\">\n",
              "    <div>\n",
              "<style scoped>\n",
              "    .dataframe tbody tr th:only-of-type {\n",
              "        vertical-align: middle;\n",
              "    }\n",
              "\n",
              "    .dataframe tbody tr th {\n",
              "        vertical-align: top;\n",
              "    }\n",
              "\n",
              "    .dataframe thead th {\n",
              "        text-align: right;\n",
              "    }\n",
              "</style>\n",
              "<table border=\"1\" class=\"dataframe\">\n",
              "  <thead>\n",
              "    <tr style=\"text-align: right;\">\n",
              "      <th></th>\n",
              "      <th>Call  Failure</th>\n",
              "      <th>Complains</th>\n",
              "      <th>Subscription  Length</th>\n",
              "      <th>Charge  Amount</th>\n",
              "      <th>Seconds of Use</th>\n",
              "      <th>Frequency of use</th>\n",
              "      <th>Frequency of SMS</th>\n",
              "      <th>Distinct Called Numbers</th>\n",
              "      <th>Age Group</th>\n",
              "      <th>Tariff Plan</th>\n",
              "      <th>Status</th>\n",
              "      <th>Age</th>\n",
              "      <th>Customer Value</th>\n",
              "      <th>Churn</th>\n",
              "    </tr>\n",
              "  </thead>\n",
              "  <tbody>\n",
              "    <tr>\n",
              "      <th>0</th>\n",
              "      <td>8</td>\n",
              "      <td>0</td>\n",
              "      <td>38</td>\n",
              "      <td>0</td>\n",
              "      <td>4370</td>\n",
              "      <td>71</td>\n",
              "      <td>5</td>\n",
              "      <td>17</td>\n",
              "      <td>3</td>\n",
              "      <td>1</td>\n",
              "      <td>1</td>\n",
              "      <td>30</td>\n",
              "      <td>197.640</td>\n",
              "      <td>0</td>\n",
              "    </tr>\n",
              "    <tr>\n",
              "      <th>1</th>\n",
              "      <td>0</td>\n",
              "      <td>0</td>\n",
              "      <td>39</td>\n",
              "      <td>0</td>\n",
              "      <td>318</td>\n",
              "      <td>5</td>\n",
              "      <td>7</td>\n",
              "      <td>4</td>\n",
              "      <td>2</td>\n",
              "      <td>1</td>\n",
              "      <td>2</td>\n",
              "      <td>25</td>\n",
              "      <td>46.035</td>\n",
              "      <td>0</td>\n",
              "    </tr>\n",
              "    <tr>\n",
              "      <th>2</th>\n",
              "      <td>10</td>\n",
              "      <td>0</td>\n",
              "      <td>37</td>\n",
              "      <td>0</td>\n",
              "      <td>2453</td>\n",
              "      <td>60</td>\n",
              "      <td>359</td>\n",
              "      <td>24</td>\n",
              "      <td>3</td>\n",
              "      <td>1</td>\n",
              "      <td>1</td>\n",
              "      <td>30</td>\n",
              "      <td>1536.520</td>\n",
              "      <td>0</td>\n",
              "    </tr>\n",
              "    <tr>\n",
              "      <th>3</th>\n",
              "      <td>10</td>\n",
              "      <td>0</td>\n",
              "      <td>38</td>\n",
              "      <td>0</td>\n",
              "      <td>4198</td>\n",
              "      <td>66</td>\n",
              "      <td>1</td>\n",
              "      <td>35</td>\n",
              "      <td>1</td>\n",
              "      <td>1</td>\n",
              "      <td>1</td>\n",
              "      <td>15</td>\n",
              "      <td>240.020</td>\n",
              "      <td>0</td>\n",
              "    </tr>\n",
              "    <tr>\n",
              "      <th>4</th>\n",
              "      <td>3</td>\n",
              "      <td>0</td>\n",
              "      <td>38</td>\n",
              "      <td>0</td>\n",
              "      <td>2393</td>\n",
              "      <td>58</td>\n",
              "      <td>2</td>\n",
              "      <td>33</td>\n",
              "      <td>1</td>\n",
              "      <td>1</td>\n",
              "      <td>1</td>\n",
              "      <td>15</td>\n",
              "      <td>145.805</td>\n",
              "      <td>0</td>\n",
              "    </tr>\n",
              "    <tr>\n",
              "      <th>5</th>\n",
              "      <td>11</td>\n",
              "      <td>0</td>\n",
              "      <td>38</td>\n",
              "      <td>1</td>\n",
              "      <td>3775</td>\n",
              "      <td>82</td>\n",
              "      <td>32</td>\n",
              "      <td>28</td>\n",
              "      <td>3</td>\n",
              "      <td>1</td>\n",
              "      <td>1</td>\n",
              "      <td>30</td>\n",
              "      <td>282.280</td>\n",
              "      <td>0</td>\n",
              "    </tr>\n",
              "    <tr>\n",
              "      <th>6</th>\n",
              "      <td>4</td>\n",
              "      <td>0</td>\n",
              "      <td>38</td>\n",
              "      <td>0</td>\n",
              "      <td>2360</td>\n",
              "      <td>39</td>\n",
              "      <td>285</td>\n",
              "      <td>18</td>\n",
              "      <td>3</td>\n",
              "      <td>1</td>\n",
              "      <td>1</td>\n",
              "      <td>30</td>\n",
              "      <td>1235.960</td>\n",
              "      <td>0</td>\n",
              "    </tr>\n",
              "    <tr>\n",
              "      <th>7</th>\n",
              "      <td>13</td>\n",
              "      <td>0</td>\n",
              "      <td>37</td>\n",
              "      <td>2</td>\n",
              "      <td>9115</td>\n",
              "      <td>121</td>\n",
              "      <td>144</td>\n",
              "      <td>43</td>\n",
              "      <td>3</td>\n",
              "      <td>1</td>\n",
              "      <td>1</td>\n",
              "      <td>30</td>\n",
              "      <td>945.440</td>\n",
              "      <td>0</td>\n",
              "    </tr>\n",
              "    <tr>\n",
              "      <th>8</th>\n",
              "      <td>7</td>\n",
              "      <td>0</td>\n",
              "      <td>38</td>\n",
              "      <td>0</td>\n",
              "      <td>13773</td>\n",
              "      <td>169</td>\n",
              "      <td>0</td>\n",
              "      <td>44</td>\n",
              "      <td>3</td>\n",
              "      <td>1</td>\n",
              "      <td>1</td>\n",
              "      <td>30</td>\n",
              "      <td>557.680</td>\n",
              "      <td>0</td>\n",
              "    </tr>\n",
              "    <tr>\n",
              "      <th>9</th>\n",
              "      <td>7</td>\n",
              "      <td>0</td>\n",
              "      <td>38</td>\n",
              "      <td>1</td>\n",
              "      <td>4515</td>\n",
              "      <td>83</td>\n",
              "      <td>2</td>\n",
              "      <td>25</td>\n",
              "      <td>3</td>\n",
              "      <td>1</td>\n",
              "      <td>1</td>\n",
              "      <td>30</td>\n",
              "      <td>191.920</td>\n",
              "      <td>0</td>\n",
              "    </tr>\n",
              "  </tbody>\n",
              "</table>\n",
              "</div>\n",
              "    <div class=\"colab-df-buttons\">\n",
              "\n",
              "  <div class=\"colab-df-container\">\n",
              "    <button class=\"colab-df-convert\" onclick=\"convertToInteractive('df-d9c2c967-5a6b-4781-9315-8c18e27cc99c')\"\n",
              "            title=\"Convert this dataframe to an interactive table.\"\n",
              "            style=\"display:none;\">\n",
              "\n",
              "  <svg xmlns=\"http://www.w3.org/2000/svg\" height=\"24px\" viewBox=\"0 -960 960 960\">\n",
              "    <path d=\"M120-120v-720h720v720H120Zm60-500h600v-160H180v160Zm220 220h160v-160H400v160Zm0 220h160v-160H400v160ZM180-400h160v-160H180v160Zm440 0h160v-160H620v160ZM180-180h160v-160H180v160Zm440 0h160v-160H620v160Z\"/>\n",
              "  </svg>\n",
              "    </button>\n",
              "\n",
              "  <style>\n",
              "    .colab-df-container {\n",
              "      display:flex;\n",
              "      gap: 12px;\n",
              "    }\n",
              "\n",
              "    .colab-df-convert {\n",
              "      background-color: #E8F0FE;\n",
              "      border: none;\n",
              "      border-radius: 50%;\n",
              "      cursor: pointer;\n",
              "      display: none;\n",
              "      fill: #1967D2;\n",
              "      height: 32px;\n",
              "      padding: 0 0 0 0;\n",
              "      width: 32px;\n",
              "    }\n",
              "\n",
              "    .colab-df-convert:hover {\n",
              "      background-color: #E2EBFA;\n",
              "      box-shadow: 0px 1px 2px rgba(60, 64, 67, 0.3), 0px 1px 3px 1px rgba(60, 64, 67, 0.15);\n",
              "      fill: #174EA6;\n",
              "    }\n",
              "\n",
              "    .colab-df-buttons div {\n",
              "      margin-bottom: 4px;\n",
              "    }\n",
              "\n",
              "    [theme=dark] .colab-df-convert {\n",
              "      background-color: #3B4455;\n",
              "      fill: #D2E3FC;\n",
              "    }\n",
              "\n",
              "    [theme=dark] .colab-df-convert:hover {\n",
              "      background-color: #434B5C;\n",
              "      box-shadow: 0px 1px 3px 1px rgba(0, 0, 0, 0.15);\n",
              "      filter: drop-shadow(0px 1px 2px rgba(0, 0, 0, 0.3));\n",
              "      fill: #FFFFFF;\n",
              "    }\n",
              "  </style>\n",
              "\n",
              "    <script>\n",
              "      const buttonEl =\n",
              "        document.querySelector('#df-d9c2c967-5a6b-4781-9315-8c18e27cc99c button.colab-df-convert');\n",
              "      buttonEl.style.display =\n",
              "        google.colab.kernel.accessAllowed ? 'block' : 'none';\n",
              "\n",
              "      async function convertToInteractive(key) {\n",
              "        const element = document.querySelector('#df-d9c2c967-5a6b-4781-9315-8c18e27cc99c');\n",
              "        const dataTable =\n",
              "          await google.colab.kernel.invokeFunction('convertToInteractive',\n",
              "                                                    [key], {});\n",
              "        if (!dataTable) return;\n",
              "\n",
              "        const docLinkHtml = 'Like what you see? Visit the ' +\n",
              "          '<a target=\"_blank\" href=https://colab.research.google.com/notebooks/data_table.ipynb>data table notebook</a>'\n",
              "          + ' to learn more about interactive tables.';\n",
              "        element.innerHTML = '';\n",
              "        dataTable['output_type'] = 'display_data';\n",
              "        await google.colab.output.renderOutput(dataTable, element);\n",
              "        const docLink = document.createElement('div');\n",
              "        docLink.innerHTML = docLinkHtml;\n",
              "        element.appendChild(docLink);\n",
              "      }\n",
              "    </script>\n",
              "  </div>\n",
              "\n",
              "\n",
              "<div id=\"df-ed5d4033-9463-4e89-a6cc-fb7b57784003\">\n",
              "  <button class=\"colab-df-quickchart\" onclick=\"quickchart('df-ed5d4033-9463-4e89-a6cc-fb7b57784003')\"\n",
              "            title=\"Suggest charts.\"\n",
              "            style=\"display:none;\">\n",
              "\n",
              "<svg xmlns=\"http://www.w3.org/2000/svg\" height=\"24px\"viewBox=\"0 0 24 24\"\n",
              "     width=\"24px\">\n",
              "    <g>\n",
              "        <path d=\"M19 3H5c-1.1 0-2 .9-2 2v14c0 1.1.9 2 2 2h14c1.1 0 2-.9 2-2V5c0-1.1-.9-2-2-2zM9 17H7v-7h2v7zm4 0h-2V7h2v10zm4 0h-2v-4h2v4z\"/>\n",
              "    </g>\n",
              "</svg>\n",
              "  </button>\n",
              "\n",
              "<style>\n",
              "  .colab-df-quickchart {\n",
              "      --bg-color: #E8F0FE;\n",
              "      --fill-color: #1967D2;\n",
              "      --hover-bg-color: #E2EBFA;\n",
              "      --hover-fill-color: #174EA6;\n",
              "      --disabled-fill-color: #AAA;\n",
              "      --disabled-bg-color: #DDD;\n",
              "  }\n",
              "\n",
              "  [theme=dark] .colab-df-quickchart {\n",
              "      --bg-color: #3B4455;\n",
              "      --fill-color: #D2E3FC;\n",
              "      --hover-bg-color: #434B5C;\n",
              "      --hover-fill-color: #FFFFFF;\n",
              "      --disabled-bg-color: #3B4455;\n",
              "      --disabled-fill-color: #666;\n",
              "  }\n",
              "\n",
              "  .colab-df-quickchart {\n",
              "    background-color: var(--bg-color);\n",
              "    border: none;\n",
              "    border-radius: 50%;\n",
              "    cursor: pointer;\n",
              "    display: none;\n",
              "    fill: var(--fill-color);\n",
              "    height: 32px;\n",
              "    padding: 0;\n",
              "    width: 32px;\n",
              "  }\n",
              "\n",
              "  .colab-df-quickchart:hover {\n",
              "    background-color: var(--hover-bg-color);\n",
              "    box-shadow: 0 1px 2px rgba(60, 64, 67, 0.3), 0 1px 3px 1px rgba(60, 64, 67, 0.15);\n",
              "    fill: var(--button-hover-fill-color);\n",
              "  }\n",
              "\n",
              "  .colab-df-quickchart-complete:disabled,\n",
              "  .colab-df-quickchart-complete:disabled:hover {\n",
              "    background-color: var(--disabled-bg-color);\n",
              "    fill: var(--disabled-fill-color);\n",
              "    box-shadow: none;\n",
              "  }\n",
              "\n",
              "  .colab-df-spinner {\n",
              "    border: 2px solid var(--fill-color);\n",
              "    border-color: transparent;\n",
              "    border-bottom-color: var(--fill-color);\n",
              "    animation:\n",
              "      spin 1s steps(1) infinite;\n",
              "  }\n",
              "\n",
              "  @keyframes spin {\n",
              "    0% {\n",
              "      border-color: transparent;\n",
              "      border-bottom-color: var(--fill-color);\n",
              "      border-left-color: var(--fill-color);\n",
              "    }\n",
              "    20% {\n",
              "      border-color: transparent;\n",
              "      border-left-color: var(--fill-color);\n",
              "      border-top-color: var(--fill-color);\n",
              "    }\n",
              "    30% {\n",
              "      border-color: transparent;\n",
              "      border-left-color: var(--fill-color);\n",
              "      border-top-color: var(--fill-color);\n",
              "      border-right-color: var(--fill-color);\n",
              "    }\n",
              "    40% {\n",
              "      border-color: transparent;\n",
              "      border-right-color: var(--fill-color);\n",
              "      border-top-color: var(--fill-color);\n",
              "    }\n",
              "    60% {\n",
              "      border-color: transparent;\n",
              "      border-right-color: var(--fill-color);\n",
              "    }\n",
              "    80% {\n",
              "      border-color: transparent;\n",
              "      border-right-color: var(--fill-color);\n",
              "      border-bottom-color: var(--fill-color);\n",
              "    }\n",
              "    90% {\n",
              "      border-color: transparent;\n",
              "      border-bottom-color: var(--fill-color);\n",
              "    }\n",
              "  }\n",
              "</style>\n",
              "\n",
              "  <script>\n",
              "    async function quickchart(key) {\n",
              "      const quickchartButtonEl =\n",
              "        document.querySelector('#' + key + ' button');\n",
              "      quickchartButtonEl.disabled = true;  // To prevent multiple clicks.\n",
              "      quickchartButtonEl.classList.add('colab-df-spinner');\n",
              "      try {\n",
              "        const charts = await google.colab.kernel.invokeFunction(\n",
              "            'suggestCharts', [key], {});\n",
              "      } catch (error) {\n",
              "        console.error('Error during call to suggestCharts:', error);\n",
              "      }\n",
              "      quickchartButtonEl.classList.remove('colab-df-spinner');\n",
              "      quickchartButtonEl.classList.add('colab-df-quickchart-complete');\n",
              "    }\n",
              "    (() => {\n",
              "      let quickchartButtonEl =\n",
              "        document.querySelector('#df-ed5d4033-9463-4e89-a6cc-fb7b57784003 button');\n",
              "      quickchartButtonEl.style.display =\n",
              "        google.colab.kernel.accessAllowed ? 'block' : 'none';\n",
              "    })();\n",
              "  </script>\n",
              "</div>\n",
              "    </div>\n",
              "  </div>\n"
            ]
          },
          "metadata": {},
          "execution_count": 3
        }
      ],
      "source": [
        "data.head(10)"
      ]
    },
    {
      "cell_type": "code",
      "execution_count": null,
      "metadata": {
        "colab": {
          "base_uri": "https://localhost:8080/"
        },
        "id": "FgAEeAA1t65y",
        "outputId": "217f8a96-87ee-47b2-bb99-310d766dc626"
      },
      "outputs": [
        {
          "output_type": "stream",
          "name": "stdout",
          "text": [
            "<class 'pandas.core.frame.DataFrame'>\n",
            "RangeIndex: 3150 entries, 0 to 3149\n",
            "Data columns (total 14 columns):\n",
            " #   Column                   Non-Null Count  Dtype  \n",
            "---  ------                   --------------  -----  \n",
            " 0   Call  Failure            3150 non-null   int64  \n",
            " 1   Complains                3150 non-null   int64  \n",
            " 2   Subscription  Length     3150 non-null   int64  \n",
            " 3   Charge  Amount           3150 non-null   int64  \n",
            " 4   Seconds of Use           3150 non-null   int64  \n",
            " 5   Frequency of use         3150 non-null   int64  \n",
            " 6   Frequency of SMS         3150 non-null   int64  \n",
            " 7   Distinct Called Numbers  3150 non-null   int64  \n",
            " 8   Age Group                3150 non-null   int64  \n",
            " 9   Tariff Plan              3150 non-null   int64  \n",
            " 10  Status                   3150 non-null   int64  \n",
            " 11  Age                      3150 non-null   int64  \n",
            " 12  Customer Value           3150 non-null   float64\n",
            " 13  Churn                    3150 non-null   int64  \n",
            "dtypes: float64(1), int64(13)\n",
            "memory usage: 344.7 KB\n"
          ]
        }
      ],
      "source": [
        "data.info()"
      ]
    },
    {
      "cell_type": "code",
      "execution_count": 14,
      "metadata": {
        "id": "FjJZDUfFJqIA"
      },
      "outputs": [],
      "source": [
        "array = data.values"
      ]
    },
    {
      "cell_type": "code",
      "execution_count": 15,
      "metadata": {
        "id": "p-SJ_802J7If"
      },
      "outputs": [],
      "source": [
        "X = array[:,0:12]\n",
        "Y = array[:,13]"
      ]
    },
    {
      "cell_type": "markdown",
      "metadata": {
        "id": "NGe1Hy7QONfP"
      },
      "source": [
        "# Предварительная обработка данных"
      ]
    },
    {
      "cell_type": "code",
      "execution_count": 16,
      "metadata": {
        "colab": {
          "base_uri": "https://localhost:8080/"
        },
        "id": "f3VqbZjsOQ6i",
        "outputId": "882366f6-d72e-4479-96d3-30e9a39e35c2"
      },
      "outputs": [
        {
          "output_type": "stream",
          "name": "stdout",
          "text": [
            "[[0.22222222 0.         0.79545455 0.         0.25570509 0.27843137\n",
            "  0.00957854 0.17525773 0.5        0.         0.         0.375     ]\n",
            " [0.         0.         0.81818182 0.         0.01860737 0.01960784\n",
            "  0.01340996 0.04123711 0.25       0.         1.         0.25      ]\n",
            " [0.27777778 0.         0.77272727 0.         0.14353423 0.23529412\n",
            "  0.68773946 0.24742268 0.5        0.         0.         0.375     ]\n",
            " [0.27777778 0.         0.79545455 0.         0.24564073 0.25882353\n",
            "  0.00191571 0.36082474 0.         0.         0.         0.        ]\n",
            " [0.08333333 0.         0.79545455 0.         0.14002341 0.22745098\n",
            "  0.00383142 0.34020619 0.         0.         0.         0.        ]]\n"
          ]
        }
      ],
      "source": [
        "scaler = MinMaxScaler(feature_range=(0, 1))\n",
        "conversion = scaler.fit_transform(X)\n",
        "print(conversion[0:5,:])"
      ]
    },
    {
      "cell_type": "markdown",
      "metadata": {
        "id": "-L8TjyU2PHpQ"
      },
      "source": [
        "Масштабирование факторных признаков на отрезок [0,1]"
      ]
    },
    {
      "cell_type": "code",
      "execution_count": 17,
      "metadata": {
        "colab": {
          "base_uri": "https://localhost:8080/"
        },
        "id": "ecK_NUCdPM4x",
        "outputId": "51b0ffa3-690e-40e0-899c-c2c53e45a426"
      },
      "outputs": [
        {
          "output_type": "stream",
          "name": "stdout",
          "text": [
            "[[ 0.05122913 -0.2878304   0.63672633 -0.61996205 -0.02441119  0.02681625\n",
            "  -0.60751272 -0.37815805  0.19494132 -0.29040893 -0.57466206 -0.11307444]\n",
            " [-1.05028466 -0.2878304   0.75338358 -0.61996205 -0.98980697 -1.12292553\n",
            "  -0.58969054 -1.1333308  -0.92561556 -0.29040893  1.74015315 -0.67934551]\n",
            " [ 0.32660758 -0.2878304   0.52006909 -0.61996205 -0.48113965 -0.16480738\n",
            "   2.54701243  0.02847342  0.19494132 -0.29040893 -0.57466206 -0.11307444]\n",
            " [ 0.32660758 -0.2878304   0.63672633 -0.61996205 -0.06539048 -0.0602854\n",
            "  -0.64315707  0.66746575 -2.04617244 -0.29040893 -0.57466206 -1.81188763]\n",
            " [-0.63721699 -0.2878304   0.63672633 -0.61996205 -0.49543475 -0.19964804\n",
            "  -0.63424598  0.55128532 -2.04617244 -0.29040893 -0.57466206 -1.81188763]]\n"
          ]
        }
      ],
      "source": [
        "scaler2 = StandardScaler().fit(X)\n",
        "conversion2 = scaler2.transform(X)\n",
        "print(conversion2[0:5,:])"
      ]
    },
    {
      "cell_type": "markdown",
      "metadata": {
        "id": "7HTWiKYLPhWm"
      },
      "source": [
        "Стандартизация факторных признаков"
      ]
    },
    {
      "cell_type": "code",
      "execution_count": 18,
      "metadata": {
        "colab": {
          "base_uri": "https://localhost:8080/"
        },
        "id": "aT7wbBnpPjQn",
        "outputId": "3f242490-3f47-41bd-c081-13aecb487082"
      },
      "outputs": [
        {
          "output_type": "stream",
          "name": "stdout",
          "text": [
            "[[1.83029111e-03 0.00000000e+00 8.69388279e-03 0.00000000e+00\n",
            "  9.99796521e-01 1.62438336e-02 1.14393195e-03 3.88936862e-03\n",
            "  6.86359168e-04 2.28786389e-04 2.28786389e-04 6.86359168e-03]\n",
            " [0.00000000e+00 0.00000000e+00 1.21302416e-01 0.00000000e+00\n",
            "  9.89081235e-01 1.55515917e-02 2.17722284e-02 1.24412734e-02\n",
            "  6.22063670e-03 3.11031835e-03 6.22063670e-03 7.77579587e-02]\n",
            " [4.03152202e-03 0.00000000e+00 1.49166315e-02 0.00000000e+00\n",
            "  9.88932351e-01 2.41891321e-02 1.44731640e-01 9.67565284e-03\n",
            "  1.20945661e-03 4.03152202e-04 4.03152202e-04 1.20945661e-02]\n",
            " [2.38158985e-03 0.00000000e+00 9.05004144e-03 0.00000000e+00\n",
            "  9.99791420e-01 1.57184930e-02 2.38158985e-04 8.33556448e-03\n",
            "  2.38158985e-04 2.38158985e-04 2.38158985e-04 3.57238478e-03]\n",
            " [1.25298516e-03 0.00000000e+00 1.58711454e-02 0.00000000e+00\n",
            "  9.99464496e-01 2.42243798e-02 8.35323440e-04 1.37828368e-02\n",
            "  4.17661720e-04 4.17661720e-04 4.17661720e-04 6.26492580e-03]]\n"
          ]
        }
      ],
      "source": [
        "normalizer = Normalizer().fit(X)\n",
        "conversion3 = normalizer.transform(X)\n",
        "print(conversion3[0:5,:])"
      ]
    },
    {
      "cell_type": "markdown",
      "metadata": {
        "id": "3a7AX4IbP-DV"
      },
      "source": [
        "Нормализация факторных признаков"
      ]
    },
    {
      "cell_type": "code",
      "execution_count": 19,
      "metadata": {
        "colab": {
          "base_uri": "https://localhost:8080/"
        },
        "id": "9GSl5BX1P_0T",
        "outputId": "2d5ceaf3-192f-4bfd-e911-0f5bd8d112b2"
      },
      "outputs": [
        {
          "output_type": "stream",
          "name": "stdout",
          "text": [
            "[[1. 0. 1. 0. 1. 1. 1. 1. 1. 1. 1. 1.]\n",
            " [0. 0. 1. 0. 1. 1. 1. 1. 1. 1. 1. 1.]\n",
            " [1. 0. 1. 0. 1. 1. 1. 1. 1. 1. 1. 1.]\n",
            " [1. 0. 1. 0. 1. 1. 1. 1. 1. 1. 1. 1.]\n",
            " [1. 0. 1. 0. 1. 1. 1. 1. 1. 1. 1. 1.]]\n"
          ]
        }
      ],
      "source": [
        "binarizer = Binarizer(threshold=0.0).fit(X)\n",
        "conversion4 = binarizer.transform(X)\n",
        "print(conversion4[0:5,:])"
      ]
    },
    {
      "cell_type": "markdown",
      "metadata": {
        "id": "mBnHPOGLQQ5R"
      },
      "source": [
        "Бинарное кодирование факторных признаков"
      ]
    },
    {
      "cell_type": "markdown",
      "metadata": {
        "id": "JMHUZ4mGRyzY"
      },
      "source": [
        "# Отбор признаков"
      ]
    },
    {
      "cell_type": "code",
      "execution_count": 26,
      "metadata": {
        "colab": {
          "base_uri": "https://localhost:8080/"
        },
        "id": "kuCuVOtNtTHA",
        "outputId": "8119a023-ca7b-418c-8ca6-aef99a4d338b"
      },
      "outputs": [
        {
          "output_type": "stream",
          "name": "stdout",
          "text": [
            "[2.543e-01 1.243e+03 3.347e+00 1.343e+02 3.089e+02 3.190e+02 1.613e+02\n",
            " 2.655e+02 6.666e-01 3.567e+01 1.044e+03 9.871e-01]\n",
            "[[0.000e+00 4.370e+03 7.100e+01 1.000e+00]\n",
            " [0.000e+00 3.180e+02 5.000e+00 2.000e+00]\n",
            " [0.000e+00 2.453e+03 6.000e+01 1.000e+00]\n",
            " [0.000e+00 4.198e+03 6.600e+01 1.000e+00]\n",
            " [0.000e+00 2.393e+03 5.800e+01 1.000e+00]]\n"
          ]
        }
      ],
      "source": [
        "test = SelectKBest(score_func=f_classif, k=4)\n",
        "fit = test.fit(X, Y)\n",
        "print(fit.scores_)\n",
        "features = fit.transform(X)\n",
        "print(features[0:5,:])"
      ]
    },
    {
      "cell_type": "markdown",
      "metadata": {
        "id": "aNejx8ggtq1A"
      },
      "source": [
        "'Status', 'Age', 'Churn' топ 3 значимых признака\n",
        "\n"
      ]
    },
    {
      "cell_type": "code",
      "execution_count": 22,
      "metadata": {
        "id": "_rgcutJqt2pq",
        "colab": {
          "base_uri": "https://localhost:8080/"
        },
        "outputId": "da354345-c068-405d-b8fe-0f01418afe51"
      },
      "outputs": [
        {
          "output_type": "stream",
          "name": "stdout",
          "text": [
            "Num Features: 3\n",
            "Selected Features: [False  True False False False False False False False  True  True False]\n",
            "Feature Ranking: [ 4  1  6  2 10  5  9  7  3  1  1  8]\n"
          ]
        }
      ],
      "source": [
        "model = LogisticRegression(solver='liblinear')\n",
        "rfe = RFE(model, n_features_to_select=3)\n",
        "fit = rfe.fit(X, Y)\n",
        "print(\"Num Features: %d\" % fit.n_features_)\n",
        "print(\"Selected Features: %s\" % fit.support_)\n",
        "print(\"Feature Ranking: %s\" % fit.ranking_)"
      ]
    },
    {
      "cell_type": "markdown",
      "source": [
        "'Subscription  Length', 'Age', ''Status' топ 3 значимых признака"
      ],
      "metadata": {
        "id": "CgG9G57k6kSC"
      }
    },
    {
      "cell_type": "code",
      "source": [
        "pca = PCA(n_components=3)\n",
        "fit = pca.fit(X)\n",
        "print(\"Explained Variance: %s\" % fit.explained_variance_ratio_)\n",
        "print(fit.components_)"
      ],
      "metadata": {
        "colab": {
          "base_uri": "https://localhost:8080/"
        },
        "id": "1chAj_X554th",
        "outputId": "71f18f40-33e5-4513-cd3f-5586f78fc87c"
      },
      "execution_count": 23,
      "outputs": [
        {
          "output_type": "stream",
          "name": "stdout",
          "text": [
            "Explained Variance: [9.99253774e-01 7.06803857e-04 2.21558084e-05]\n",
            "[[ 8.67905620e-04 -6.64627174e-06  2.54492900e-04  1.61855598e-04\n",
            "   9.99908218e-01  1.29438815e-02  2.73211941e-03  2.77459600e-03\n",
            "   4.26207516e-06  8.52546021e-06 -4.74069407e-05  4.38116111e-05]\n",
            " [-4.81422665e-03 -2.41636703e-04  4.93281672e-03  6.24504178e-04\n",
            "  -2.75645744e-03  1.75900130e-03  9.99939774e-01  1.65308954e-03\n",
            "  -4.53120501e-04  4.39098931e-04 -9.68892645e-04 -7.59789068e-03]\n",
            " [ 1.28921795e-01  5.07786913e-04 -1.23515766e-02 -5.33283515e-03\n",
            "  -1.29674502e-02  9.11554287e-01 -2.07455003e-03  3.84803142e-01\n",
            "  -7.17471821e-03  3.35145306e-03 -1.67228110e-03 -6.28909593e-02]]\n"
          ]
        }
      ]
    },
    {
      "cell_type": "code",
      "source": [
        "model = ExtraTreesClassifier(n_estimators=100)\n",
        "model.fit(X, Y)\n",
        "print(model.feature_importances_)"
      ],
      "metadata": {
        "colab": {
          "base_uri": "https://localhost:8080/"
        },
        "id": "VRHg65cE6E3k",
        "outputId": "0748a1c9-642e-46ae-f90d-ce50a6d138ec"
      },
      "execution_count": 24,
      "outputs": [
        {
          "output_type": "stream",
          "name": "stdout",
          "text": [
            "[0.06248259 0.22094048 0.10724552 0.01496252 0.1097128  0.10812666\n",
            " 0.06635428 0.08204412 0.03078423 0.0043333  0.16517332 0.02784017]\n"
          ]
        }
      ]
    },
    {
      "cell_type": "markdown",
      "source": [
        "'Complains', 'Age', 'Seconds of Use' топ 3 значимых признака"
      ],
      "metadata": {
        "id": "RsY3w_Ue6jiy"
      }
    }
  ],
  "metadata": {
    "colab": {
      "provenance": [],
      "collapsed_sections": [
        "NGe1Hy7QONfP",
        "JMHUZ4mGRyzY"
      ]
    },
    "kernelspec": {
      "display_name": "Python 3",
      "name": "python3"
    },
    "language_info": {
      "name": "python"
    }
  },
  "nbformat": 4,
  "nbformat_minor": 0
}